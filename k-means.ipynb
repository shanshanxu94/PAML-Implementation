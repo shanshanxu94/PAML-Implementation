{
 "cells": [
  {
   "cell_type": "code",
   "execution_count": 21,
   "metadata": {},
   "outputs": [],
   "source": [
    "import numpy as np\n",
    "import matplotlib.pyplot as plt\n",
    "from functools import reduce"
   ]
  },
  {
   "cell_type": "code",
   "execution_count": 24,
   "metadata": {},
   "outputs": [],
   "source": [
    "def expection(dist, params, xs):\n",
    "    '''\n",
    "    The expection step of EM algorithm.\n",
    "    Input:\n",
    "        dist: binary function, return the distance of two points\n",
    "        params: a list of parameters of clusters.\n",
    "        xs: features, ndarray of shape (n,)\n",
    "    Return:\n",
    "        labels of each data point in xs, ndarray in shape (n, )\n",
    "    '''\n",
    "    dist_mat = np.column_stack([dist(xs, param) for param in params])\n",
    "    return np.argmin(dist_mat, axis=1)\n",
    "\n",
    "def maximization(n_clusters, xs, ys):\n",
    "    '''\n",
    "    The maximization step of EM algorithm.\n",
    "    Input: \n",
    "        n_clusters: the number of clusters.\n",
    "        xs: features, ndarray of shape (n,)\n",
    "        ys: labels of each data point, value in the range [0, n_clusters), ndarray of shape (n, )\n",
    "    Return:\n",
    "        list of estimated parameters\n",
    "    '''\n",
    "    return [np.sum(xs[ys == i], axis=0) / np.sum(ys == i) for i in range(n_clusters)]\n",
    "\n",
    "def k_means(dist, n_clusters, xs, max_iters = 100):\n",
    "    '''\n",
    "    K means clustering of xs with the EM algorithm\n",
    "    Input:\n",
    "        dist: binary function used to estimate the distance between two point.\n",
    "        n_clusters: the number of clusters.\n",
    "        xs: features, ndarray of shape (n, k)\n",
    "    Return:\n",
    "        (params, labels): the list of center of each cluster, labels of each data point. \n",
    "    '''\n",
    "    dim = xs. shape[1]\n",
    "    params = [(np.random.rand(dim) - 0.5) for i in range(n_clusters)]\n",
    "    for i in range(max_iters):\n",
    "        labels = expection(dist, params, xs)\n",
    "        params_new = maximization(2, xs, labels)\n",
    "        if reduce(lambda x, y: x and y, map(np.allclose, params, params_new)):\n",
    "            break\n",
    "        params = params_new\n",
    "\n",
    "    return params, labels\n",
    "        "
   ]
  },
  {
   "attachments": {},
   "cell_type": "markdown",
   "metadata": {},
   "source": [
    "# A Toy Dataset"
   ]
  },
  {
   "cell_type": "code",
   "execution_count": 27,
   "metadata": {},
   "outputs": [
    {
     "data": {
      "text/plain": [
       "<matplotlib.collections.PathCollection at 0x7f0aaaf9ae90>"
      ]
     },
     "execution_count": 27,
     "metadata": {},
     "output_type": "execute_result"
    },
    {
     "data": {
      "image/png": "[encoded data removed]",
      "text/plain": [
       "<Figure size 432x288 with 1 Axes>"
      ]
     },
     "metadata": {
      "needs_background": "light"
     },
     "output_type": "display_data"
    }
   ],
   "source": [
    "# generate dataset with two classes (labeled as 10 and 01, i.e. one-hot encoding)\n",
    "\n",
    "cls1 = np.column_stack((np.random.normal(loc = [-0.5, -0.5], scale=[.5, .1], size=(100, 2)), np.ones(100), np.zeros(100)))\n",
    "cls2 = np.column_stack((np.random.normal(loc = [1, 1], scale=[.5, .5], size=(100, 2)), np.zeros(100), np.ones(100)))\n",
    "\n",
    "data_set = np.concatenate((cls1, cls2))\n",
    "np.random.shuffle(data_set)\n",
    "\n",
    "features = data_set[:, :2]\n",
    "# labels are used for illustration only\n",
    "labels = data_set[:, 2:]\n",
    "\n",
    "plt.scatter(features[labels[:, 1] == 0][:, 0], features[labels[:, 1] == 0][:, 1])\n",
    "plt.scatter(features[labels[:, 1] == 1][:, 0], features[labels[:, 1] == 1][:, 1])"
   ]
  },
  {
   "cell_type": "code",
   "execution_count": 30,
   "metadata": {},
   "outputs": [
    {
     "data": {
      "text/plain": [
       "<matplotlib.collections.PathCollection at 0x7f0aaae14750>"
      ]
     },
     "execution_count": 30,
     "metadata": {},
     "output_type": "execute_result"
    },
    {
     "data": {
      "image/png": "[encoded data removed]",
      "text/plain": [
       "<Figure size 432x288 with 1 Axes>"
      ]
     },
     "metadata": {
      "needs_background": "light"
     },
     "output_type": "display_data"
    }
   ],
   "source": [
    "def dist(x, y):\n",
    "    return np.sum(np.square(x - y), axis=1)\n",
    "\n",
    "(params, labels) = k_means(dist, 2, features)\n",
    "\n",
    "plt.scatter(features[labels == 0, 0], features[labels == 0, 1])\n",
    "plt.scatter(params[0][0], params[0][1], marker='o', s=100)\n",
    "plt.scatter(features[labels == 1, 0], features[labels == 1, 1])\n",
    "plt.scatter(params[1][0], params[1][1], marker='o', s=100)"
   ]
  }
 ],
 "metadata": {
  "kernelspec": {
   "display_name": "base",
   "language": "python",
   "name": "python3"
  },
  "language_info": {
   "codemirror_mode": {
    "name": "ipython",
    "version": 3
   },
   "file_extension": ".py",
   "mimetype": "text/x-python",
   "name": "python",
   "nbconvert_exporter": "python",
   "pygments_lexer": "ipython3",
   "version": "3.7.6"
  },
  "orig_nbformat": 4
 },
 "nbformat": 4,
 "nbformat_minor": 2
}
