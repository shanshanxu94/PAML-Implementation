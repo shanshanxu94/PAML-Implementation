{
 "cells": [
  {
   "cell_type": "code",
   "execution_count": 1,
   "metadata": {},
   "outputs": [],
   "source": [
    "import numpy as np\n",
    "import matplotlib.pyplot as plt"
   ]
  },
  {
   "cell_type": "code",
   "execution_count": 11,
   "metadata": {},
   "outputs": [
    {
     "data": {
      "text/plain": [
       "<matplotlib.collections.PathCollection at 0x7f5ada3bcbb0>"
      ]
     },
     "execution_count": 11,
     "metadata": {},
     "output_type": "execute_result"
    },
    {
     "data": {
      "image/png": "[encoded data removed]",
      "text/plain": [
       "<Figure size 640x480 with 1 Axes>"
      ]
     },
     "metadata": {},
     "output_type": "display_data"
    }
   ],
   "source": [
    "# generate dataset with two classes (labeled as 10 and 01, i.e. one-hot encoding)\n",
    "\n",
    "cls1 = np.column_stack((np.random.normal(loc = [-1, -1], scale=[.5, .5], size=(100, 2)), np.ones(100), np.zeros(100)))\n",
    "cls2 = np.column_stack((np.random.normal(loc = [1, 1], scale=[.5, .5], size=(100, 2)), np.zeros(100), np.ones(100)))\n",
    "\n",
    "data_set = np.concatenate((cls1, cls2))\n",
    "np.random.shuffle(data_set)\n",
    "\n",
    "features = data_set[:, :2]\n",
    "# labels are used for illustration only\n",
    "labels = data_set[:, 2:]\n",
    "\n",
    "plt.scatter(features[labels[:, 1] == 0][:, 0], features[labels[:, 1] == 0][:, 1])\n",
    "plt.scatter(features[labels[:, 1] == 1][:, 0], features[labels[:, 1] == 1][:, 1])"
   ]
  },
  {
   "cell_type": "code",
   "execution_count": 19,
   "metadata": {},
   "outputs": [],
   "source": [
    "def dist(x, y):\n",
    "    return np.sum(np.square(x - y))\n",
    "\n",
    "# E Step\n",
    "def expection(xs, mu_1, mu_2):\n",
    "    res = []\n",
    "    for x in xs:\n",
    "        d1 = dist(x, mu_1)\n",
    "        d2 = dist(x, mu_2)\n",
    "        if d1 < d2 : # close to cluster 1\n",
    "            res.append([1, 0])\n",
    "        else: # close to cluster 2\n",
    "            res.append([0, 1])\n",
    "    return np.array(res)\n",
    "\n",
    "# M step\n",
    "def maximization(xs, ys):\n",
    "    mu_1 = np.sum(xs[ys[:, 0] == 1], axis=0) / np.sum(ys[:, 0])\n",
    "    mu_2 = np.sum(xs[ys[:, 0] == 0], axis=0) / np.sum(ys[:, 1])\n",
    "    return mu_1, mu_2\n"
   ]
  },
  {
   "cell_type": "code",
   "execution_count": 22,
   "metadata": {},
   "outputs": [
    {
     "data": {
      "text/plain": [
       "(2, array([-0.98142283, -1.03415299]), array([1.04204956, 0.97044063]))"
      ]
     },
     "execution_count": 22,
     "metadata": {},
     "output_type": "execute_result"
    }
   ],
   "source": [
    "# EM algorithm\n",
    "n_iter = 100\n",
    "\n",
    "# assume 2 clusters, randomly initialize their ceneters in range [-2, 2]\n",
    "mu_1 = (np.random.rand(2) - 0.5) * 4\n",
    "mu_2 = (np.random.rand(2) - 0.5) * 4\n",
    "\n",
    "for i in range(n_iter):\n",
    "    rs = expection(features, mu_1, mu_2)\n",
    "    mu_1_new, mu_2_new = maximization(features, rs)\n",
    "    if np.allclose(mu_1, mu_1_new) and np.allclose(mu_2, mu_2_new):\n",
    "        break\n",
    "    mu_1 = mu_1_new\n",
    "    mu_2 = mu_2_new\n",
    "\n",
    "i, mu_1, mu_2"
   ]
  },
  {
   "cell_type": "code",
   "execution_count": null,
   "metadata": {},
   "outputs": [],
   "source": []
  }
 ],
 "metadata": {
  "kernelspec": {
   "display_name": "base",
   "language": "python",
   "name": "python3"
  },
  "language_info": {
   "codemirror_mode": {
    "name": "ipython",
    "version": 3
   },
   "file_extension": ".py",
   "mimetype": "text/x-python",
   "name": "python",
   "nbconvert_exporter": "python",
   "pygments_lexer": "ipython3",
   "version": "3.10.9"
  },
  "orig_nbformat": 4
 },
 "nbformat": 4,
 "nbformat_minor": 2
}
