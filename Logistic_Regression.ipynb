{
 "cells": [
  {
   "cell_type": "code",
   "execution_count": 2,
   "metadata": {},
   "outputs": [],
   "source": [
    "import numpy as np\n",
    "import matplotlib.pyplot as plt"
   ]
  },
  {
   "cell_type": "code",
   "execution_count": 13,
   "metadata": {},
   "outputs": [],
   "source": [
    "def sigmoid(xs):\n",
    "    '''\n",
    "    Apply sigmoid function to each point.\n",
    "    Input:\n",
    "        xs: ndarray of shape (n,)\n",
    "    Return:\n",
    "        ndarray of shape n\n",
    "    '''\n",
    "    return 1 / (1 + np.exp(-xs))\n",
    "\n",
    "def fit(xs, ys, max_iter=100):\n",
    "    '''\n",
    "    Given paired features and labels, estimate the weights by the Newton-Raphson method. \n",
    "    Input: \n",
    "        xs:  ndarray of shape (n, k)\n",
    "        ys: ndarray of shape (n, )\n",
    "    Return:\n",
    "        weights: ndarray of shape (k, 1)\n",
    "    '''\n",
    "    #initial value of weights\n",
    "    w_old = np.random.rand(xs.shape[-1], 1)\n",
    "\n",
    "    for i in range(max_iter):\n",
    "        predictions = sigmoid(xs @ w_old)[:, 0]\n",
    "        gradient = xs.T @ (predictions - ys)\n",
    "        r = np.diag(predictions * (1 - predictions))\n",
    "        hessian_matrix = xs.T @ r @ xs\n",
    "        w_new = w_old - (np.linalg.inv(hessian_matrix) @ gradient).reshape((2, 1))\n",
    "        if np.allclose(w_old, w_new):\n",
    "            break\n",
    "        w_old = w_new\n",
    "\n",
    "    return w_new\n",
    "    \n",
    "    \n",
    "\n",
    "def predict(weights, xs):\n",
    "    '''\n",
    "    Given a set of basis functions, corresponding weights and features, return predicted labels. \n",
    "    Input: \n",
    "        weights: ndarray of shape (k, 1)\n",
    "        xs:  ndarray of shape (n, )\n",
    "    Return:\n",
    "        predicted labels (ndarray of shape (n, ))\n",
    "    '''\n",
    "    pred = sigmoid(xs @ weights)\n",
    "    pred[pred>=0.5] = 1\n",
    "    pred[pred<0.5] = 0\n",
    "    return pred[:, 0]"
   ]
  },
  {
   "attachments": {},
   "cell_type": "markdown",
   "metadata": {},
   "source": [
    "# A Toy Dataset"
   ]
  },
  {
   "cell_type": "code",
   "execution_count": 14,
   "metadata": {},
   "outputs": [
    {
     "data": {
      "text/plain": [
       "<matplotlib.collections.PathCollection at 0x7ff1912e2ad0>"
      ]
     },
     "execution_count": 14,
     "metadata": {},
     "output_type": "execute_result"
    },
    {
     "data": {
      "image/png": "[encoded data removed]",
      "text/plain": [
       "<Figure size 432x288 with 1 Axes>"
      ]
     },
     "metadata": {
      "needs_background": "light"
     },
     "output_type": "display_data"
    }
   ],
   "source": [
    "# generate dataset with two classes (labeled as 0 and 1)\n",
    "\n",
    "cls1 = np.column_stack((np.random.normal(loc = [-1, -1], scale=[.9, .9], size=(100, 2)), np.ones(100)))\n",
    "cls2 = np.column_stack((np.random.normal(loc = [1, 1], scale=[.9, .9], size=(100, 2)), np.zeros(100)))\n",
    "\n",
    "data_set = np.concatenate((cls1, cls2))\n",
    "np.random.shuffle(data_set)\n",
    "\n",
    "features = data_set[:, :-1]\n",
    "labels = data_set[:, -1]\n",
    "\n",
    "plt.scatter(features[labels == 0][:, 0], features[labels == 0][:, 1])\n",
    "plt.scatter(features[labels == 1][:, 0], features[labels == 1][:, 1])"
   ]
  },
  {
   "attachments": {},
   "cell_type": "markdown",
   "metadata": {},
   "source": [
    "# Classfication on the dataset"
   ]
  },
  {
   "cell_type": "code",
   "execution_count": 16,
   "metadata": {},
   "outputs": [
    {
     "data": {
      "text/plain": [
       "<matplotlib.collections.PathCollection at 0x7ff19124bc50>"
      ]
     },
     "execution_count": 16,
     "metadata": {},
     "output_type": "execute_result"
    },
    {
     "data": {
      "image/png": "[encoded data removed]",
      "text/plain": [
       "<Figure size 432x288 with 1 Axes>"
      ]
     },
     "metadata": {
      "needs_background": "light"
     },
     "output_type": "display_data"
    }
   ],
   "source": [
    "w = fit(features, labels)\n",
    "labels_pred = predict(w, features)\n",
    "\n",
    "plt.scatter(features[labels_pred == 0][:, 0], features[labels_pred == 0][:, 1])\n",
    "plt.scatter(features[labels_pred == 1][:, 0], features[labels_pred == 1][:, 1])"
   ]
  }
 ],
 "metadata": {
  "kernelspec": {
   "display_name": "base",
   "language": "python",
   "name": "python3"
  },
  "language_info": {
   "codemirror_mode": {
    "name": "ipython",
    "version": 3
   },
   "file_extension": ".py",
   "mimetype": "text/x-python",
   "name": "python",
   "nbconvert_exporter": "python",
   "pygments_lexer": "ipython3",
   "version": "3.7.6"
  },
  "orig_nbformat": 4
 },
 "nbformat": 4,
 "nbformat_minor": 2
}
