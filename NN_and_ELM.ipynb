{
 "cells": [
  {
   "cell_type": "code",
   "execution_count": 1,
   "metadata": {},
   "outputs": [],
   "source": [
    "import numpy as np\n",
    "import matplotlib.pyplot as plt"
   ]
  },
  {
   "cell_type": "code",
   "execution_count": 13,
   "metadata": {},
   "outputs": [
    {
     "data": {
      "text/plain": [
       "(array([ 1.,  4.,  6., 25., 34., 46., 40., 30.,  8.,  6.]),\n",
       " array([-2.69380027, -2.39175257, -2.08970488, -1.78765719, -1.4856095 ,\n",
       "        -1.18356181, -0.88151412, -0.57946643, -0.27741874,  0.02462895,\n",
       "         0.32667664]),\n",
       " <BarContainer object of 10 artists>)"
      ]
     },
     "execution_count": 13,
     "metadata": {},
     "output_type": "execute_result"
    },
    {
     "data": {
      "image/png": "[encoded data removed]",
      "text/plain": [
       "<Figure size 640x480 with 1 Axes>"
      ]
     },
     "metadata": {},
     "output_type": "display_data"
    }
   ],
   "source": [
    "# generate dataset with two classes (labeled as 0 and 1)\n",
    "\n",
    "cls1 = np.column_stack((np.random.normal(loc = [-1, -1], scale=[.5, .5], size=(200, 2)), np.ones(200)))\n",
    "cls2 = np.column_stack((np.random.normal(loc = [1, 1], scale=[.5, .5], size=(200, 2)), np.zeros(200)))\n",
    "\n",
    "data_set = np.concatenate((cls1, cls2))\n",
    "np.random.shuffle(data_set)\n",
    "\n",
    "features = data_set[:, :-1][:, 0]\n",
    "labels = data_set[:, -1]\n",
    "\n",
    "plt.hist(features[labels == 0])\n",
    "plt.hist(features[labels == 1])\n",
    "\n",
    "#plt.scatter(features[labels == 0][:, 0], features[labels == 0][:, 1])\n",
    "#plt.scatter(features[labels == 1][:, 0], features[labels == 1][:, 1])"
   ]
  },
  {
   "cell_type": "code",
   "execution_count": 41,
   "metadata": {},
   "outputs": [],
   "source": [
    "# activate function\n",
    "def relu(xs):\n",
    "    xs[xs < 0] = 0\n",
    "    return xs\n",
    "\n",
    "def sigmoid(xs):\n",
    "    return 1 / (1 + np.exp(-xs))\n",
    "\n",
    "# NN forward\n",
    "def nn(xs, params):\n",
    "    return sigmoid(relu(relu(xs @ params[0]) @ params[1]) @ params[2] + params[3]).flatten()\n",
    "\n",
    "# loss function\n",
    "def cross_entropy(ys, ys_pred):\n",
    "    return -1/(ys.shape[0]) * np.sum(ys * np.log(ys_pred) + (1- ys) * np.log(1 - ys_pred))\n",
    "\n",
    "# optimization target\n",
    "def target(params):\n",
    "    return cross_entropy(labels, nn(features, params))"
   ]
  },
  {
   "cell_type": "code",
   "execution_count": 21,
   "metadata": {},
   "outputs": [
    {
     "data": {
      "text/plain": [
       "(400, 10)"
      ]
     },
     "execution_count": 21,
     "metadata": {},
     "output_type": "execute_result"
    }
   ],
   "source": []
  },
  {
   "cell_type": "code",
   "execution_count": null,
   "metadata": {},
   "outputs": [],
   "source": []
  }
 ],
 "metadata": {
  "kernelspec": {
   "display_name": "base",
   "language": "python",
   "name": "python3"
  },
  "language_info": {
   "codemirror_mode": {
    "name": "ipython",
    "version": 3
   },
   "file_extension": ".py",
   "mimetype": "text/x-python",
   "name": "python",
   "nbconvert_exporter": "python",
   "pygments_lexer": "ipython3",
   "version": "3.10.9"
  },
  "orig_nbformat": 4
 },
 "nbformat": 4,
 "nbformat_minor": 2
}
