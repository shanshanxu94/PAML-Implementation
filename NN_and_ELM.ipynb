{
 "cells": [
  {
   "cell_type": "code",
   "execution_count": 1,
   "metadata": {},
   "outputs": [],
   "source": [
    "import numpy as np\n",
    "import matplotlib.pyplot as plt"
   ]
  },
  {
   "cell_type": "code",
   "execution_count": 2,
   "metadata": {},
   "outputs": [
    {
     "data": {
      "text/plain": [
       "(array([ 1.,  2., 14., 23., 47., 51., 39., 15.,  6.,  2.]),\n",
       " array([-2.59814386, -2.2952072 , -1.99227054, -1.68933387, -1.38639721,\n",
       "        -1.08346054, -0.78052388, -0.47758722, -0.17465055,  0.12828611,\n",
       "         0.43122277]),\n",
       " <BarContainer object of 10 artists>)"
      ]
     },
     "execution_count": 2,
     "metadata": {},
     "output_type": "execute_result"
    },
    {
     "data": {
      "image/png": "[encoded data removed]",
      "text/plain": [
       "<Figure size 640x480 with 1 Axes>"
      ]
     },
     "metadata": {},
     "output_type": "display_data"
    }
   ],
   "source": [
    "# generate dataset with two classes (labeled as 0 and 1)\n",
    "\n",
    "cls1 = np.column_stack((np.random.normal(loc = [-1, -1], scale=[.5, .5], size=(200, 2)), np.ones(200)))\n",
    "cls2 = np.column_stack((np.random.normal(loc = [1, 1], scale=[.5, .5], size=(200, 2)), np.zeros(200)))\n",
    "\n",
    "data_set = np.concatenate((cls1, cls2))\n",
    "np.random.shuffle(data_set)\n",
    "\n",
    "features = data_set[:, :-1][:, 0]\n",
    "labels = data_set[:, -1]\n",
    "\n",
    "plt.hist(features[labels == 0])\n",
    "plt.hist(features[labels == 1])\n",
    "\n",
    "#plt.scatter(features[labels == 0][:, 0], features[labels == 0][:, 1])\n",
    "#plt.scatter(features[labels == 1][:, 0], features[labels == 1][:, 1])"
   ]
  },
  {
   "cell_type": "code",
   "execution_count": 3,
   "metadata": {},
   "outputs": [],
   "source": [
    "# activate function\n",
    "def relu(xs):\n",
    "    xs[xs < 0] = 0\n",
    "    return xs\n",
    "\n",
    "def sigmoid(xs):\n",
    "    return 1 / (1 + np.exp(-xs))\n",
    "\n",
    "\n",
    "# NN forward\n",
    "def nn(xs, weights, active_fns):\n",
    "    layer_output = [np.zeros((w.shape[-1], )) for w, _ in weights]\n",
    "    for idx, ((w, b), a) in enumerate(zip(weights, active_fns)):\n",
    "        if idx == 0:\n",
    "            layer_output[idx] = a(xs @ w + b)\n",
    "        else:\n",
    "            layer_output[idx] = a(layer_output[idx-1] @ w + b)\n",
    "    return layer_output\n",
    "\n",
    "# loss function\n",
    "def cross_entropy(ys, ys_pred):\n",
    "    return -1/(ys.shape[0]) * np.sum(ys * np.log(ys_pred) + (1- ys) * np.log(1 - ys_pred))\n",
    "\n",
    "# optimization target\n",
    "def target(params):\n",
    "    return cross_entropy(labels, nn(features, params))"
   ]
  },
  {
   "cell_type": "code",
   "execution_count": 12,
   "metadata": {},
   "outputs": [
    {
     "data": {
      "text/plain": [
       "(400, 1)"
      ]
     },
     "execution_count": 12,
     "metadata": {},
     "output_type": "execute_result"
    }
   ],
   "source": [
    "nn(features[:, None], \n",
    "    [(np.random.normal(size = (1, 20)), np.random.normal()),\n",
    "     (np.random.normal(size = (20, 20)), np.random.normal(size=20)),\n",
    "     (np.random.normal(size = (20, 1)), np.random.normal(size=1))], \n",
    "    [relu, \n",
    "     relu,\n",
    "     sigmoid])"
   ]
  },
  {
   "cell_type": "code",
   "execution_count": null,
   "metadata": {},
   "outputs": [],
   "source": []
  }
 ],
 "metadata": {
  "kernelspec": {
   "display_name": "base",
   "language": "python",
   "name": "python3"
  },
  "language_info": {
   "codemirror_mode": {
    "name": "ipython",
    "version": 3
   },
   "file_extension": ".py",
   "mimetype": "text/x-python",
   "name": "python",
   "nbconvert_exporter": "python",
   "pygments_lexer": "ipython3",
   "version": "3.10.9"
  },
  "orig_nbformat": 4
 },
 "nbformat": 4,
 "nbformat_minor": 2
}
